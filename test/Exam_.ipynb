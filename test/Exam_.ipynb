{
 "cells": [
  {
   "cell_type": "markdown",
   "metadata": {},
   "source": [
    "### Cheating: The Arch Nemesis of Integrity\n",
    "\n",
    "When we fail to excel with integrity, it may be called cheating, academic misconduct, academic dishonesty, or an academic integrity violation. \n",
    "\n",
    "Cheating occurs when a student attempts to get academic credit in a way that is dishonest, disrespectful, irresponsible, untrustworthy or unfair.\n",
    "\n",
    "Cheating ↔ Misrepresents a student’s knowledge and abilities undermines the instructor’s ability to honestly and fairly assess student knowledge and abilities. Instructors have the authority to define _cheating_ in their classes because expectations for academic conduct are tied directly to learning objectives. "
   ]
  },
  {
   "cell_type": "code",
   "execution_count": null,
   "metadata": {},
   "outputs": [],
   "source": []
  },
  {
   "cell_type": "code",
   "execution_count": null,
   "metadata": {},
   "outputs": [],
   "source": []
  }
 ],
 "metadata": {
  "kernelspec": {
   "display_name": "Python 3",
   "language": "python",
   "name": "python3"
  },
  "language_info": {
   "codemirror_mode": {
    "name": "ipython",
    "version": 3
   },
   "file_extension": ".py",
   "mimetype": "text/x-python",
   "name": "python",
   "nbconvert_exporter": "python",
   "pygments_lexer": "ipython3",
   "version": "3.7.3"
  }
 },
 "nbformat": 4,
 "nbformat_minor": 4
}
