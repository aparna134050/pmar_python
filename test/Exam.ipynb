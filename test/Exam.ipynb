{
 "cells": [
  {
   "cell_type": "markdown",
   "metadata": {},
   "source": [
    "### Instructions:\n",
    "\n",
    "* This will be a 1$\\frac{1}{2}$ hour exam.<br>\n",
    "* You will have to write programs for all the below scenarios. <br>\n",
    "* Please do not search the internet for the answers, you might just be wasting your time.<br>\n",
    "* Accuracy of the answer is a major component of the evaluation. <br>\n",
    "* This is a programming exam and not a Python exam. Please refrain from using any Python modules/data structures unless suggested in the question.<br>\n",
    "* Check-in your answers to Github when you are done\n",
    "\n",
    "\n",
    "\n"
   ]
  },
  {
   "cell_type": "markdown",
   "metadata": {},
   "source": [
    "##  ```if``` you were the king/queen\n",
    "\n",
    "A ruler with a limited developmental budget asked all the 3 of his ministers each to come up with the number of cities (from a total of 10 cities in his state) he needs to develop in the year 2020 as part of **NBHY (Nagar Bane Hoshiyar Yojana)** plan. The ruler decided to take the mode of the numbers furnished by them as the 2020 goal. \n",
    "\n",
    "Write a program to accept those numbers from the ministers and print the mode of those numbers. \n",
    "\n",
    "Hint: ```if, and, elif```"
   ]
  },
  {
   "cell_type": "code",
   "execution_count": 18,
   "metadata": {
    "scrolled": true
   },
   "outputs": [
    {
     "name": "stdout",
     "output_type": "stream",
     "text": [
      "2\n",
      "3\n",
      "4\n"
     ]
    }
   ],
   "source": [
    "a = int(input())\n",
    "b = int(input())\n",
    "c = int(input())\n",
    "\n",
    "if ( a == b and b == c):\n",
    "    print(a)\n",
    "elif (a == b):\n",
    "    print(a)\n",
    "elif ( a == c):\n",
    "    print (a)\n",
    "elif (b == c):\n",
    "    print(b)\n",
    "    \n"
   ]
  },
  {
   "cell_type": "markdown",
   "metadata": {},
   "source": [
    "## [ _Enter_ queen/king ]\n",
    "\n",
    "Ruler's spouse, a mathemtician by nature, quickly found the flaw: mode is indeterminate when the proposals from the ministers are all distinct. So, a correction was made : When there is no appropriate mode, median will be taken as the goal for **_NBHY_** 2020.\n",
    "\n",
    "Modify the code above to _include_ the correction made to the rule."
   ]
  },
  {
   "cell_type": "code",
   "execution_count": 20,
   "metadata": {},
   "outputs": [
    {
     "name": "stdout",
     "output_type": "stream",
     "text": [
      "2\n",
      "3\n",
      "4\n",
      "3\n"
     ]
    }
   ],
   "source": [
    "a = int(input())\n",
    "b = int(input())\n",
    "c = int(input())\n",
    "\n",
    "if ( a == b and b == c):\n",
    "    print(a)\n",
    "elif (a == b):\n",
    "    print(a)\n",
    "elif ( a == c):\n",
    "    print (a)\n",
    "elif (b == c):\n",
    "    print(b)\n",
    "    \n",
    "\n",
    "if ( a < b and b <c):\n",
    "    print(b)\n",
    "elif (a < c and c < b):\n",
    "    print(c)\n",
    "elif ( b < a and a<c):\n",
    "    print(a)\n"
   ]
  },
  {
   "cell_type": "markdown",
   "metadata": {},
   "source": [
    "## Factorial\n",
    "\n",
    "Not surprisingly, factorial of any number more than 4 has atleast one zero at the end. Write a program to find the number of Zeros in factorial of _any_ given number.\n",
    "\n",
    "The factorial can be obtained by the following code:\n",
    "\n",
    "```\n",
    "import math\n",
    "print(math.factorial(5))```\n",
    "\n",
    "Hint : ```% and //```"
   ]
  },
  {
   "cell_type": "code",
   "execution_count": 39,
   "metadata": {},
   "outputs": [
    {
     "name": "stdout",
     "output_type": "stream",
     "text": [
      "24\n",
      "0\n"
     ]
    }
   ],
   "source": [
    "import math\n",
    "fact = math.factorial(4)\n",
    "print(fact)\n",
    "i = 0 \n",
    "while (fact % 10 == 0):\n",
    "    fact = fact // 10\n",
    "    i = i + 1\n",
    "print (i)"
   ]
  },
  {
   "cell_type": "markdown",
   "metadata": {},
   "source": [
    "## Roll of Dice\n",
    "\n",
    "An amature software professional shouts : \"The probability of getting a total of 12 when two dice are rolled is $\\frac{1}{36}$\"\n",
    "\n",
    "Prove/Disprove it by writing code to generate all possible combinations and those that add up to 12 (or any other number you want to calculate the probability for).\n",
    "\n",
    "Hint : floating point numbers can never be compared _accurately_"
   ]
  },
  {
   "cell_type": "code",
   "execution_count": 9,
   "metadata": {},
   "outputs": [
    {
     "name": "stdout",
     "output_type": "stream",
     "text": [
      "Probability =  1 / 36\n"
     ]
    }
   ],
   "source": [
    "n = 0\n",
    "n_12 = 0\n",
    "\n",
    "for i in range(1,7):\n",
    "    for j in range(1,7):\n",
    "        n = n + 1\n",
    "        if (i+j == 12):\n",
    "            n_12 = n_12 + 1\n",
    "print(\"Probability = \", n_12 ,\"/\",n)  \n"
   ]
  },
  {
   "cell_type": "markdown",
   "metadata": {},
   "source": [
    "## Statistical Evidence\n",
    "\n",
    "Prove or disprove the above statement from the amature software professional by statistically making 1,00,000 random trials (roll of dice). A random roll of dice could be achived in Python by using the below code\n",
    "\n",
    "```\n",
    "import random\n",
    "dice1 = random.choice([1,2,3,4,5,6])\n",
    "print (dice1)```\n",
    "\n",
    "Hint: Statistical results are closer to reality as the number of trials tends to infinity"
   ]
  },
  {
   "cell_type": "code",
   "execution_count": 17,
   "metadata": {},
   "outputs": [
    {
     "name": "stdout",
     "output_type": "stream",
     "text": [
      "Probability =  0.02788\n",
      "1/36 =  0.027777777777777776\n",
      "difference =  0.0001022222222222223\n",
      "Proved against the allowable statistical error margin of 0.001 \n"
     ]
    }
   ],
   "source": [
    "from random import choice \n",
    "count = 0 \n",
    "for i in range(100000):\n",
    "    if (choice([1,2,3,4,5,6]) + choice([1,2,3,4,5,6]) == 12):\n",
    "        count = count + 1\n",
    "print(\"Probability = \",count/100000)\n",
    "\n",
    "print (\"1/36 = \",1/36)\n",
    "print (\"difference = \", count/100000 - 1/36)\n",
    "if (count/100000 - 1/36 < 0.001):\n",
    "    print (\"Proved against the allowable statistical error margin of 0.001 \")\n",
    "else:\n",
    "    print (\"Disproved against the allowable statistical error margin of 0.001 \")\n"
   ]
  },
  {
   "cell_type": "code",
   "execution_count": null,
   "metadata": {},
   "outputs": [],
   "source": []
  }
 ],
 "metadata": {
  "kernelspec": {
   "display_name": "Python 3",
   "language": "python",
   "name": "python3"
  },
  "language_info": {
   "codemirror_mode": {
    "name": "ipython",
    "version": 3
   },
   "file_extension": ".py",
   "mimetype": "text/x-python",
   "name": "python",
   "nbconvert_exporter": "python",
   "pygments_lexer": "ipython3",
   "version": "3.7.3"
  }
 },
 "nbformat": 4,
 "nbformat_minor": 4
}
