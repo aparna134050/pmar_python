{
 "cells": [
  {
   "cell_type": "code",
   "execution_count": null,
   "metadata": {},
   "outputs": [],
   "source": [
    "# Prime number\n",
    "\n",
    "n = 10\n",
    "for i in range(2,n):\n",
    "    if n % i == 0 :\n",
    "        break\n",
    "if (i == n -1):\n",
    "    print (\"Number is prime\")\n",
    "else:\n",
    "    print(\"Number is not prime\")"
   ]
  },
  {
   "cell_type": "code",
   "execution_count": null,
   "metadata": {},
   "outputs": [],
   "source": [
    "# Prime numbers less than 1000\n",
    "\n",
    "n = 1000\n",
    "\n",
    "#print the exception of 2\n",
    "print (2)\n",
    "\n",
    "for i in range(3,n+1):\n",
    "    for j in range(2,i):\n",
    "        if (i %j ==0):\n",
    "            break\n",
    "    if (j == i-1):\n",
    "        print(i)"
   ]
  },
  {
   "cell_type": "code",
   "execution_count": null,
   "metadata": {},
   "outputs": [],
   "source": [
    "import math\n",
    "\n",
    "math.sqrt(100)\n",
    "\n",
    "\n",
    "10000**0.5"
   ]
  },
  {
   "cell_type": "code",
   "execution_count": 10,
   "metadata": {},
   "outputs": [
    {
     "name": "stdout",
     "output_type": "stream",
     "text": [
      "Perfect\n"
     ]
    }
   ],
   "source": [
    "# Perfect Number\n",
    "\n",
    "n = 28\n",
    "sum = 0 \n",
    "\n",
    "for i in range(1,int(n/2)+1):\n",
    "    if (n%i==0):\n",
    "        sum = sum + i\n",
    "if ( n == sum):\n",
    "    print(\"Perfect\")\n",
    "else:\n",
    "    print(\"Not perfect\")"
   ]
  },
  {
   "cell_type": "code",
   "execution_count": 12,
   "metadata": {},
   "outputs": [
    {
     "name": "stdout",
     "output_type": "stream",
     "text": [
      "6\n",
      "28\n",
      "496\n",
      "8128\n"
     ]
    }
   ],
   "source": [
    "for n in range(1,10000):\n",
    "    sum = 0\n",
    "    for i in range(1,n//2+1):\n",
    "        if (n%i==0):\n",
    "            sum = sum + i\n",
    "    if ( n == sum):\n",
    "        print(n)"
   ]
  },
  {
   "cell_type": "code",
   "execution_count": null,
   "metadata": {},
   "outputs": [],
   "source": []
  }
 ],
 "metadata": {
  "kernelspec": {
   "display_name": "Python 3",
   "language": "python",
   "name": "python3"
  },
  "language_info": {
   "codemirror_mode": {
    "name": "ipython",
    "version": 3
   },
   "file_extension": ".py",
   "mimetype": "text/x-python",
   "name": "python",
   "nbconvert_exporter": "python",
   "pygments_lexer": "ipython3",
   "version": "3.7.3"
  }
 },
 "nbformat": 4,
 "nbformat_minor": 4
}
