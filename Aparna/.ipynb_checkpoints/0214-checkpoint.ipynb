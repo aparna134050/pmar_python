{
 "cells": [
  {
   "cell_type": "code",
   "execution_count": 1,
   "metadata": {},
   "outputs": [
    {
     "name": "stdout",
     "output_type": "stream",
     "text": [
      "Number is a prime\n",
      "Number is a prime\n",
      "Number is a prime\n",
      "Number is a prime\n",
      "Number is a prime\n",
      "Number is a not a prime\n"
     ]
    }
   ],
   "source": [
    "i=2\n",
    "n=7\n",
    "while(n%i!=0):\n",
    "    i=i+1\n",
    "    print(\"Number is a prime\")\n",
    "while(n%i==0):\n",
    "    i=i+1\n",
    "    print(\"Number is a not a prime\")"
   ]
  },
  {
   "cell_type": "code",
   "execution_count": null,
   "metadata": {},
   "outputs": [],
   "source": [
    "#Code for a prime number\n",
    "\n",
    "#practice\n",
    "\n",
    "n=9\n",
    "for i in range(2,n-i):\n",
    "    while(n%i==0):\n",
    "    i=i+1\n",
    "        print('number is not prime')\n",
    "    else:\n",
    "        print(\"number is prime\")\n",
    "    break"
   ]
  },
  {
   "cell_type": "code",
   "execution_count": 2,
   "metadata": {},
   "outputs": [
    {
     "name": "stdout",
     "output_type": "stream",
     "text": [
      "Its a prime\n"
     ]
    }
   ],
   "source": [
    "#code\n",
    "n=3\n",
    "for i in range(2,n):\n",
    "    if (n%i==0):\n",
    "        break\n",
    "if (i==n-1):\n",
    "    print('Its a prime')\n",
    "else:\n",
    "    print('Not a prime')\n",
    "    "
   ]
  },
  {
   "cell_type": "code",
   "execution_count": null,
   "metadata": {},
   "outputs": [],
   "source": [
    "#prime numbers < 1000\n",
    "\n",
    "n=1000\n",
    "\n",
    "#print the exception of 2\n",
    "print(2)\n",
    "for i in range (3,n+1):\n",
    "    for j in range(2,i):\n",
    "        if (i%j==0):\n",
    "            break\n",
    "    if (j==i-1):\n",
    "        print(i)\n"
   ]
  },
  {
   "cell_type": "code",
   "execution_count": null,
   "metadata": {},
   "outputs": [],
   "source": [
    "#HW #prime numbers < 1000 calculating only till 11\n"
   ]
  },
  {
   "cell_type": "code",
   "execution_count": 34,
   "metadata": {},
   "outputs": [
    {
     "name": "stdout",
     "output_type": "stream",
     "text": [
      "perfect\n"
     ]
    }
   ],
   "source": [
    "#perfect number or not\n",
    "\n",
    "n=496\n",
    "j=0\n",
    "for i in range(1,n):\n",
    "    if (n%i==0):\n",
    "        j=j+i \n",
    "if (n==j):\n",
    "    print(\"perfect\")\n",
    "else:\n",
    "    print(\"not perfect\")\n",
    "   "
   ]
  },
  {
   "cell_type": "code",
   "execution_count": 27,
   "metadata": {},
   "outputs": [
    {
     "name": "stdout",
     "output_type": "stream",
     "text": [
      "not perfect\n"
     ]
    }
   ],
   "source": [
    "#perfect number or not\n",
    "\n",
    "n=7\n",
    "sum=0\n",
    "\n",
    "for i in range(1,int(n/2)+1):\n",
    "    if (n%i==0):\n",
    "        sum=sum+i\n",
    "if (n==sum):\n",
    "    print(\"perfect\")\n",
    "else:\n",
    "    print(\"not perfect\")\n",
    "        "
   ]
  },
  {
   "cell_type": "code",
   "execution_count": 1,
   "metadata": {},
   "outputs": [
    {
     "name": "stdout",
     "output_type": "stream",
     "text": [
      "6,28,496,8128\n"
     ]
    }
   ],
   "source": [
    "#perfect number below 10000\n",
    "\n",
    "for n in range (1,10000):\n",
    "    sum=0\n",
    "    for i in range(1,int(n/2)+1):\n",
    "        if (n%i==0):\n",
    "            sum=sum+i\n",
    "    if (n==sum):\n",
    "        print(n,end=\",\")\n",
    "\n",
    "print(\"\\b\")\n",
    "    "
   ]
  },
  {
   "cell_type": "code",
   "execution_count": null,
   "metadata": {},
   "outputs": [],
   "source": []
  },
  {
   "cell_type": "code",
   "execution_count": null,
   "metadata": {},
   "outputs": [],
   "source": []
  }
 ],
 "metadata": {
  "kernelspec": {
   "display_name": "Python 3",
   "language": "python",
   "name": "python3"
  },
  "language_info": {
   "codemirror_mode": {
    "name": "ipython",
    "version": 3
   },
   "file_extension": ".py",
   "mimetype": "text/x-python",
   "name": "python",
   "nbconvert_exporter": "python",
   "pygments_lexer": "ipython3",
   "version": "3.7.3"
  }
 },
 "nbformat": 4,
 "nbformat_minor": 4
}
