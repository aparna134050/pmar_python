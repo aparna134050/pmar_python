{
 "cells": [
  {
   "cell_type": "code",
   "execution_count": 1,
   "metadata": {},
   "outputs": [
    {
     "name": "stdout",
     "output_type": "stream",
     "text": [
      "It is a prime number.\n"
     ]
    }
   ],
   "source": [
    "\n",
    "#Check if a number is a Prime number or not\n",
    "\n",
    "#Any number whcih is divisible by 1 and itself is a prime number\n",
    "\n",
    "n=7 #Here we are checking whether 7 is a prime number or not\n",
    "for i in range(2,n):    \n",
    "    if (n%i==0):\n",
    "        break\n",
    "if (i==n-1):\n",
    "    print(\"It is a prime number.\")\n",
    "else:\n",
    "    print(\"It is not a prime number\")"
   ]
  },
  {
   "cell_type": "code",
   "execution_count": 13,
   "metadata": {},
   "outputs": [
    {
     "data": {
      "text/plain": [
       "10.0"
      ]
     },
     "execution_count": 13,
     "metadata": {},
     "output_type": "execute_result"
    }
   ],
   "source": [
    "import math\n",
    "math.sqrt(100)\n",
    "\n",
    "100**0.5"
   ]
  },
  {
   "cell_type": "code",
   "execution_count": 14,
   "metadata": {},
   "outputs": [
    {
     "name": "stdout",
     "output_type": "stream",
     "text": [
      "The factorials are: 1\n",
      "The factorials are: 3\n",
      "9 is not a perfect number\n"
     ]
    }
   ],
   "source": [
    "#Print perfect number\n",
    "\n",
    "n=9\n",
    "sum=0\n",
    "for i in range(1,n-1):\n",
    "    if (n%i==0):\n",
    "        sum=sum+i\n",
    "        print(\"The factorials are: \" + str(i))\n",
    "if (sum==n):\n",
    "    print(str(n) +\" is a Perfect number\")\n",
    "else:\n",
    "    print(str(n) +\" is not a perfect number\")"
   ]
  },
  {
   "cell_type": "code",
   "execution_count": null,
   "metadata": {},
   "outputs": [
    {
     "name": "stdout",
     "output_type": "stream",
     "text": [
      "6 is a Perfect number\n",
      "28 is a Perfect number\n",
      "496 is a Perfect number\n",
      "8128 is a Perfect number\n"
     ]
    }
   ],
   "source": [
    "#Print perfect number\n",
    "for n in range(1,100000):\n",
    "    sum=0\n",
    "    for i in range(1,n//2+1):\n",
    "        if (n%i==0):\n",
    "            sum=sum+i        \n",
    "    if (sum==n):\n",
    "        print(str(n) +\" is a Perfect number\")"
   ]
  },
  {
   "cell_type": "code",
   "execution_count": null,
   "metadata": {},
   "outputs": [],
   "source": []
  }
 ],
 "metadata": {
  "kernelspec": {
   "display_name": "Python 3",
   "language": "python",
   "name": "python3"
  },
  "language_info": {
   "codemirror_mode": {
    "name": "ipython",
    "version": 3
   },
   "file_extension": ".py",
   "mimetype": "text/x-python",
   "name": "python",
   "nbconvert_exporter": "python",
   "pygments_lexer": "ipython3",
   "version": "3.7.6"
  }
 },
 "nbformat": 4,
 "nbformat_minor": 4
}
